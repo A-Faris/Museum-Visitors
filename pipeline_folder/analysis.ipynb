{
 "cells": [
  {
   "cell_type": "code",
   "execution_count": 3,
   "metadata": {},
   "outputs": [
    {
     "name": "stdout",
     "output_type": "stream",
     "text": [
      "12:22:13\n"
     ]
    }
   ],
   "source": [
    "from datetime import datetime, time, UTC\n",
    "\n",
    "def main():\n",
    "    dict_value = '2024-05-09T12:22:13.830246+01:00'\n",
    "\n",
    "    try:\n",
    "        date = datetime.fromisoformat(dict_value)\n",
    "    except Exception:\n",
    "        return \"Key at could not be converted to datetime\"\n",
    "\n",
    "    if date > datetime.now(UTC):\n",
    "        return \"Key at is set in the future\"\n",
    "\n",
    "    return date.time().replace(microsecond=0)\n",
    "\n",
    "print(main())"
   ]
  },
  {
   "cell_type": "markdown",
   "metadata": {},
   "source": [
    "# Museum Analysis\n",
    "\n",
    "This notebook connects to the museum database and conducts simple analysis of the data.\n",
    "\n",
    "## Imports"
   ]
  },
  {
   "cell_type": "code",
   "execution_count": 71,
   "metadata": {},
   "outputs": [],
   "source": [
    "from pipeline import get_db_connection"
   ]
  },
  {
   "cell_type": "markdown",
   "metadata": {},
   "source": [
    "## Setup"
   ]
  },
  {
   "cell_type": "code",
   "execution_count": 72,
   "metadata": {},
   "outputs": [],
   "source": [
    "conn = get_db_connection()\n",
    "cur = conn.cursor()"
   ]
  },
  {
   "cell_type": "markdown",
   "metadata": {},
   "source": [
    "## Questions"
   ]
  },
  {
   "cell_type": "markdown",
   "metadata": {},
   "source": [
    "### What exhibition is most frequently visited?"
   ]
  },
  {
   "cell_type": "code",
   "execution_count": 73,
   "metadata": {},
   "outputs": [
    {
     "name": "stdout",
     "output_type": "stream",
     "text": [
      "('Our Polluted World', 481)\n"
     ]
    }
   ],
   "source": [
    "cur.execute(\"\"\"SELECT exhibition_name, COUNT(*) AS visit_count\n",
    "            FROM review\n",
    "            JOIN exhibition USING(exhibition_id)\n",
    "            GROUP BY exhibition_name\n",
    "            ORDER BY visit_count DESC\"\"\")\n",
    "\n",
    "print(cur.fetchone())"
   ]
  },
  {
   "cell_type": "markdown",
   "metadata": {},
   "source": [
    "### What hour of the day has the most ratings?"
   ]
  },
  {
   "cell_type": "code",
   "execution_count": 74,
   "metadata": {},
   "outputs": [
    {
     "name": "stdout",
     "output_type": "stream",
     "text": [
      "(10, 232)\n"
     ]
    }
   ],
   "source": [
    "cur.execute(\"\"\"SELECT EXTRACT(HOUR FROM created_at)::INT AS hour_of_day, \n",
    "            COUNT(*) AS rating_count\n",
    "            FROM review\n",
    "            GROUP BY hour_of_day\n",
    "            ORDER BY rating_count DESC\"\"\")\n",
    "\n",
    "print(cur.fetchone())"
   ]
  },
  {
   "cell_type": "markdown",
   "metadata": {},
   "source": [
    "### What is the average rating for each exhibition?"
   ]
  },
  {
   "cell_type": "code",
   "execution_count": 75,
   "metadata": {},
   "outputs": [
    {
     "name": "stdout",
     "output_type": "stream",
     "text": [
      "[('Cetacean Sensations', 2.830508474576271), ('Adaptation', 1.9294117647058824), ('Measureless to Man', 1.9169435215946844), ('The Crenshaw Collection', 1.425974025974026), ('Our Polluted World', 1.2162162162162162)]\n"
     ]
    }
   ],
   "source": [
    "cur.execute(\"\"\"SELECT exhibition_name,\n",
    "            AVG(rating_id)::FLOAT AS average_rating FROM review\n",
    "            JOIN exhibition USING(exhibition_id)\n",
    "            GROUP BY exhibition_name\n",
    "            ORDER BY average_rating DESC\"\"\")\n",
    "\n",
    "print(cur.fetchall())"
   ]
  },
  {
   "cell_type": "markdown",
   "metadata": {},
   "source": [
    "### What proportion of all 4+ ratings are given to exhibition 4?"
   ]
  },
  {
   "cell_type": "code",
   "execution_count": 76,
   "metadata": {},
   "outputs": [
    {
     "name": "stdout",
     "output_type": "stream",
     "text": [
      "(0.091324200913242,)\n"
     ]
    }
   ],
   "source": [
    "cur.execute(\"\"\"-- Total count of all 4+ ratings\n",
    "            WITH FourPlusRatings AS (\n",
    "                SELECT COUNT(*) AS total_count\n",
    "                FROM review\n",
    "                WHERE rating_id >= 3  -- Assuming rating_id 3 and above correspond to 4+ ratings\n",
    "            ),\n",
    "\n",
    "            -- Count of 4+ ratings for exhibition 4\n",
    "            ExhibitionFourPlusRatings AS (\n",
    "                SELECT COUNT(*) AS exhibition_count\n",
    "                FROM review\n",
    "                WHERE exhibition_id = 4  -- Assuming exhibition_id 4 corresponds to exhibition 4\n",
    "                AND rating_id >= 3  -- Assuming rating_id 3 and above correspond to 4+ ratings\n",
    "            )\n",
    "\n",
    "            -- Calculate the proportion\n",
    "            SELECT exhibition_count::FLOAT/total_count\n",
    "            FROM FourPlusRatings, ExhibitionFourPlusRatings;\n",
    "            \"\"\")\n",
    "\n",
    "print(cur.fetchone())"
   ]
  },
  {
   "cell_type": "markdown",
   "metadata": {},
   "source": [
    "### Are positive ratings more frequent before or after 1pm?"
   ]
  },
  {
   "cell_type": "code",
   "execution_count": 77,
   "metadata": {},
   "outputs": [
    {
     "name": "stdout",
     "output_type": "stream",
     "text": [
      "('Positive ratings more frequent after 1pm',)\n"
     ]
    }
   ],
   "source": [
    "cur.execute(\"\"\"WITH RatingsBefore1PM AS (\n",
    "                SELECT COUNT(*) AS count_before\n",
    "                FROM review\n",
    "                WHERE EXTRACT(HOUR FROM created_at) < 13  -- Before 1 PM\n",
    "                AND rating_id >= 3  -- Positive ratings\n",
    "            ),\n",
    "            RatingsAfter1PM AS (\n",
    "                SELECT COUNT(*) AS count_after\n",
    "                FROM review\n",
    "                WHERE EXTRACT(HOUR FROM created_at) >= 13  -- After 1 PM\n",
    "                AND rating_id >= 3  -- Positive ratings\n",
    "            )\n",
    "            SELECT \n",
    "                CASE \n",
    "                    WHEN count_before > count_after THEN 'Positive ratings more frequent before 1pm'\n",
    "                    WHEN count_before < count_after THEN 'Positive ratings more frequent after 1pm'\n",
    "                    ELSE 'Positive ratings the same before and after 1pm'\n",
    "                END AS rating_comparison\n",
    "            FROM RatingsBefore1PM, RatingsAfter1PM;\"\"\")\n",
    "\n",
    "print(cur.fetchone())"
   ]
  },
  {
   "cell_type": "markdown",
   "metadata": {},
   "source": [
    "### How many ratings each hour are above the average rating for exhibition 4?"
   ]
  },
  {
   "cell_type": "code",
   "execution_count": 78,
   "metadata": {},
   "outputs": [
    {
     "name": "stdout",
     "output_type": "stream",
     "text": [
      "[(0, 0), (1, 0), (2, 0), (3, 0), (4, 0), (5, 0), (6, 0), (7, 0), (8, 15), (9, 17), (10, 21), (11, 12), (12, 14), (13, 20), (14, 17), (15, 17), (16, 19), (17, 16), (18, 5), (19, 0), (20, 0), (21, 0), (22, 0), (23, 0)]\n"
     ]
    }
   ],
   "source": [
    "cur.execute(\"\"\"WITH ExhibitionFourAvg AS (\n",
    "                SELECT AVG(rating_id) AS avg_rating\n",
    "                FROM review\n",
    "                WHERE exhibition_id = 4\n",
    "            ),\n",
    "            RatingsAboveAvg AS (\n",
    "                SELECT EXTRACT(HOUR FROM created_at) AS hour_of_day, COUNT(*) AS above_avg_count\n",
    "                FROM review\n",
    "                JOIN exhibition USING(exhibition_id)\n",
    "                CROSS JOIN ExhibitionFourAvg\n",
    "                WHERE rating_id > (SELECT avg_rating FROM ExhibitionFourAvg)\n",
    "                AND exhibition_id = 4\n",
    "                GROUP BY hour_of_day\n",
    "            )\n",
    "            SELECT hour_of_day::INT, COALESCE(above_avg_count, 0) AS ratings_above_avg\n",
    "            FROM generate_series(0, 23) AS hours(hour_of_day)\n",
    "            LEFT JOIN RatingsAboveAvg USING (hour_of_day)\n",
    "            ORDER BY hour_of_day;\"\"\")\n",
    "\n",
    "print(cur.fetchall())"
   ]
  },
  {
   "cell_type": "markdown",
   "metadata": {},
   "source": [
    "### Do Zoology exhibitions get better ratings than other types?"
   ]
  },
  {
   "cell_type": "code",
   "execution_count": 79,
   "metadata": {},
   "outputs": [
    {
     "name": "stdout",
     "output_type": "stream",
     "text": [
      "[('Zoology exhibitions have better ratings',)]\n"
     ]
    }
   ],
   "source": [
    "cur.execute(\"\"\"WITH ZoologyAvgRating AS (\n",
    "                SELECT AVG(rating_id) AS zoology_avg_rating\n",
    "                FROM review\n",
    "                JOIN exhibition USING(exhibition_id)\n",
    "                JOIN department USING(department_id)\n",
    "                WHERE department_name = 'Zoology'\n",
    "            ),\n",
    "            OtherDepartmentsAvgRating AS (\n",
    "                SELECT AVG(rating_id) AS other_departments_avg_rating\n",
    "                FROM review\n",
    "                JOIN exhibition USING(exhibition_id)\n",
    "                JOIN department USING(department_id)\n",
    "                WHERE department_name <> 'Zoology'\n",
    "            )\n",
    "            SELECT \n",
    "                CASE \n",
    "                    WHEN zoology_avg_rating > other_departments_avg_rating THEN 'Zoology exhibitions have better ratings'\n",
    "                    WHEN zoology_avg_rating < other_departments_avg_rating THEN 'Zoology exhibitions have worse ratings'\n",
    "                    ELSE 'Zoology exhibitions have similar ratings to other departments'\n",
    "                END AS rating_comparison\n",
    "            FROM ZoologyAvgRating, OtherDepartmentsAvgRating;\"\"\")\n",
    "\n",
    "print(cur.fetchall())"
   ]
  },
  {
   "cell_type": "markdown",
   "metadata": {},
   "source": [
    "### What exhibition has the most emergencies?"
   ]
  },
  {
   "cell_type": "code",
   "execution_count": 80,
   "metadata": {},
   "outputs": [
    {
     "name": "stdout",
     "output_type": "stream",
     "text": [
      "('The Crenshaw Collection', 2)\n"
     ]
    }
   ],
   "source": [
    "cur.execute(\"\"\"SELECT exhibition_name, COUNT(*) AS emergency_count\n",
    "            FROM exhibition\n",
    "            JOIN request USING(exhibition_id)\n",
    "            JOIN assistance a USING(assistance_id)\n",
    "            WHERE a.description = 'emergency'\n",
    "            GROUP BY exhibition_name\n",
    "            ORDER BY emergency_count DESC\"\"\")\n",
    "\n",
    "print(cur.fetchone())"
   ]
  },
  {
   "cell_type": "markdown",
   "metadata": {},
   "source": [
    "### Which exhibitions receive fewer assistance requests than the average?"
   ]
  },
  {
   "cell_type": "code",
   "execution_count": 81,
   "metadata": {},
   "outputs": [
    {
     "name": "stdout",
     "output_type": "stream",
     "text": [
      "[('Measureless to Man',), ('Adaptation',), ('Our Polluted World',), ('The Crenshaw Collection',)]\n"
     ]
    }
   ],
   "source": [
    "cur.execute(\"\"\"WITH AvgAssistanceRequests AS (\n",
    "                SELECT AVG(request_count) AS avg_request_count\n",
    "                FROM (\n",
    "                    SELECT COUNT(*) AS request_count\n",
    "                    FROM request\n",
    "                    GROUP BY exhibition_id\n",
    "                ) AS exhibition_requests\n",
    "            )\n",
    "            SELECT exhibition_name\n",
    "            FROM exhibition\n",
    "            JOIN (\n",
    "                SELECT exhibition_id, COUNT(*) AS request_count\n",
    "                FROM request\n",
    "                GROUP BY exhibition_id\n",
    "            ) AS exhibition_requests USING(exhibition_id)\n",
    "            CROSS JOIN AvgAssistanceRequests\n",
    "            WHERE exhibition_requests.request_count < avg_request_count;\"\"\")\n",
    "\n",
    "print(cur.fetchall())"
   ]
  },
  {
   "cell_type": "markdown",
   "metadata": {},
   "source": [
    "### Are there particular times when assistance requests/emergencies are more likely?"
   ]
  },
  {
   "cell_type": "code",
   "execution_count": 82,
   "metadata": {},
   "outputs": [
    {
     "name": "stdout",
     "output_type": "stream",
     "text": [
      "[(8, 2, 0, 0.0), (9, 6, 0, 0.0), (10, 8, 0, 0.0), (11, 7, 1, 0.14285714285714285), (12, 7, 0, 0.0), (13, 4, 0, 0.0), (14, 11, 0, 0.0), (15, 6, 0, 0.0), (16, 9, 0, 0.0), (17, 8, 1, 0.125), (18, 5, 0, 0.0)]\n"
     ]
    }
   ],
   "source": [
    "cur.execute(\"\"\"WITH AssistanceRequestsByHour AS (\n",
    "                SELECT EXTRACT(HOUR FROM created_at) AS hour_of_day,\n",
    "                    COUNT(*) AS total_requests,\n",
    "                    SUM(CASE WHEN assistance.description = 'emergency' THEN 1 ELSE 0 END) AS emergency_requests\n",
    "                FROM request\n",
    "                JOIN assistance USING(assistance_id)\n",
    "                GROUP BY hour_of_day\n",
    "            )\n",
    "            SELECT hour_of_day::INT,\n",
    "                total_requests,\n",
    "                emergency_requests,\n",
    "                emergency_requests::FLOAT / total_requests AS emergency_ratio\n",
    "            FROM AssistanceRequestsByHour\n",
    "            ORDER BY hour_of_day;\"\"\")\n",
    "\n",
    "print(cur.fetchall())"
   ]
  },
  {
   "cell_type": "markdown",
   "metadata": {},
   "source": [
    "### Are emergencies more likely in exhibitions that are more exciting than others?"
   ]
  },
  {
   "cell_type": "code",
   "execution_count": 83,
   "metadata": {},
   "outputs": [
    {
     "name": "stdout",
     "output_type": "stream",
     "text": [
      "('Exhibitions with more emergencies than average rating',)\n"
     ]
    }
   ],
   "source": [
    "cur.execute(\"\"\"WITH ExhibitionAvgRating AS (\n",
    "                SELECT exhibition_id, AVG(rating_id) AS avg_rating\n",
    "                FROM exhibition\n",
    "                JOIN review USING(exhibition_id)\n",
    "                GROUP BY exhibition_id\n",
    "            ),\n",
    "            ExhibitionEmergencyCount AS (\n",
    "                SELECT exhibition_id, COUNT(*) AS emergency_count\n",
    "                FROM exhibition\n",
    "                JOIN request USING(exhibition_id)\n",
    "                JOIN assistance a USING(assistance_id)\n",
    "                WHERE a.description = 'emergency'\n",
    "                GROUP BY exhibition_id\n",
    "            )\n",
    "            SELECT \n",
    "                CASE \n",
    "                    WHEN emergency_count > avg_rating THEN 'Exhibitions with more emergencies than average rating'\n",
    "                    WHEN emergency_count < avg_rating THEN 'Exhibitions with fewer emergencies than average rating'\n",
    "                    ELSE 'Exhibitions with similar emergencies and average rating'\n",
    "                END AS emergency_comparison\n",
    "            FROM ExhibitionEmergencyCount\n",
    "            JOIN ExhibitionAvgRating USING(exhibition_id);\"\"\")\n",
    "\n",
    "print(cur.fetchone())"
   ]
  },
  {
   "cell_type": "markdown",
   "metadata": {},
   "source": [
    "### Which floors are above average for ratings?"
   ]
  },
  {
   "cell_type": "code",
   "execution_count": 84,
   "metadata": {},
   "outputs": [
    {
     "name": "stdout",
     "output_type": "stream",
     "text": [
      "[('Vault',), ('1',)]\n"
     ]
    }
   ],
   "source": [
    "cur.execute(\"\"\"WITH AvgFloorRating AS (\n",
    "                SELECT floor_id, AVG(rating_id) AS avg_rating\n",
    "                FROM exhibition\n",
    "                JOIN review USING(exhibition_id)\n",
    "                GROUP BY floor_id\n",
    "            ),\n",
    "            OverallAvgRating AS (\n",
    "                SELECT AVG(rating_id) AS overall_avg_rating\n",
    "                FROM review\n",
    "            )\n",
    "            SELECT floor_name\n",
    "            FROM AvgFloorRating\n",
    "            JOIN floor USING(floor_id)\n",
    "            CROSS JOIN OverallAvgRating\n",
    "            WHERE avg_rating > overall_avg_rating;\"\"\")\n",
    "\n",
    "print(cur.fetchall())"
   ]
  }
 ],
 "metadata": {
  "kernelspec": {
   "display_name": "Python 3",
   "language": "python",
   "name": "python3"
  },
  "language_info": {
   "codemirror_mode": {
    "name": "ipython",
    "version": 3
   },
   "file_extension": ".py",
   "mimetype": "text/x-python",
   "name": "python",
   "nbconvert_exporter": "python",
   "pygments_lexer": "ipython3",
   "version": "3.12.2"
  }
 },
 "nbformat": 4,
 "nbformat_minor": 2
}
